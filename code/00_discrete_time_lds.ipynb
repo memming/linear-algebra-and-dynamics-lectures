{
  "nbformat": 4,
  "nbformat_minor": 0,
  "metadata": {
    "colab": {
      "provenance": [],
      "collapsed_sections": []
    },
    "kernelspec": {
      "name": "python3",
      "display_name": "Python 3"
    },
    "language_info": {
      "name": "python"
    }
  },
  "cells": [
    {
      "cell_type": "code",
      "source": [
        "import numpy as np\n",
        "import matplotlib.pyplot as plt\n",
        "import matplotlib as mpl\n",
        "\n",
        "mpl.rcParams['axes.labelsize'] = 14"
      ],
      "metadata": {
        "id": "P-0vwkwDsSP6"
      },
      "execution_count": null,
      "outputs": []
    },
    {
      "cell_type": "markdown",
      "source": [
        "# **Discrete linear Dynamical Systems**\n",
        "\n",
        "\n",
        "# Simple 1-D homogenous case\n",
        "First, we will simulate a simple 1-D discrete dynamical system and get some intuition about stability in these systems. \n",
        "\n",
        "Let's consider the following system:\n",
        "$x[t+1] = ax[t]$\n",
        "\n",
        "We will first plot the behavior of this system for different values of a, given the initial value."
      ],
      "metadata": {
        "id": "B0UJCTTOrY3U"
      }
    },
    {
      "cell_type": "code",
      "execution_count": null,
      "metadata": {
        "id": "ZsjJZpWVRnog"
      },
      "outputs": [],
      "source": [
        "T = 20 #total time\n",
        "\n",
        "# Set different values of a and x0\n",
        "a = 0.9 \n",
        "x0 = 4\n",
        "\n",
        "t = np.arange(0,T,1) #taking a time step (dt) of 1\n",
        "x = np.empty((T))\n",
        "\n",
        "x[0] = x0\n",
        "\n",
        "for i in t[1:]:\n",
        "  x[i] = a*x[i-1]\n",
        "\n",
        "plt.plot(t,x,'-')\n",
        "plt.grid()\n",
        "\n",
        "plt.xlabel('Time')\n",
        "plt.ylabel('x(t)')"
      ]
    },
    {
      "cell_type": "markdown",
      "source": [
        "Exercise 1: What are the values of $a$ where the $x(t)$ is stable? \n",
        "Try varying $a$ such that it is $|a|$ < 1, $|a|$ = 1 and $|a|$>1 for different initial values. "
      ],
      "metadata": {
        "id": "YMkdMo2cu6Le"
      }
    },
    {
      "cell_type": "markdown",
      "source": [
        "## Simulating a 2-D case \n",
        "\n",
        "Now, let's try to study the behavior of a 2-d system. In this case, we can consider a 2d dynamical system.\n",
        "\n",
        "\\begin{equation}\n",
        "x[k+1] = \\bigg[\\begin{array} & -0.5 & 0.1 \\\\ 0.1 & -0.2 \\end{array} \\bigg] x[k]\n",
        "\\end{equation}\n",
        "\n"
      ],
      "metadata": {
        "id": "tvxxitRovvAx"
      }
    },
    {
      "cell_type": "code",
      "source": [
        "\"helper function to simulate a simple discrete lds\"\n",
        "\n",
        "def sim_linear_system(A,T,dt,x0,inp=None):\n",
        "  \"\"\"\n",
        "  A is the weight matrix \n",
        "  T is the total time of simulation\n",
        "  dt is the time step\n",
        "  x0 is the initial value of x\n",
        "  inp is optional (the same shape as x times T)\n",
        "  \"\"\"\n",
        "\n",
        "  t = np.arange(0,T,dt)\n",
        "\n",
        "  if inp is None:\n",
        "    inp = np.zeros((len(x0),len(t)))\n",
        "\n",
        "  x = np.empty((len(x0),len(t)))\n",
        "\n",
        "  x[:,0] = A.dot(x0) + inp[:,0]\n",
        "\n",
        "  for n,i in enumerate(t[1:]):\n",
        "    x[:,n+1] = A.dot(x[:,n]) + inp[:,n+1]\n",
        "\n",
        "  return x\n"
      ],
      "metadata": {
        "id": "lDSvWIkIvtjO"
      },
      "execution_count": null,
      "outputs": []
    },
    {
      "cell_type": "code",
      "source": [
        "A = np.array([[-0.5,0.1],[0.1,-0.2]])\n",
        "\"\"\"\n",
        "Is this a normal matrix? Here, we have a symmetric matrix so we know that it is \n",
        "normal. You can also check if A@A.T = A.T@A.\n",
        "\"\"\"\n",
        "T = 200 #total time of simulation\n",
        "dt = 1 # time step\n",
        "x0 = [20,10] #initial condition\n",
        "\n",
        "xt = sim_linear_system(A,T,dt,x0)\n"
      ],
      "metadata": {
        "id": "yhWFX0FxWOKf"
      },
      "execution_count": null,
      "outputs": []
    },
    {
      "cell_type": "code",
      "source": [
        "\"Let's plot the trajectories for our 2d system. You can try to plot this for different initial conditions\"\n",
        "\n",
        "plt.plot(xt.T)\n",
        "\n",
        "plt.grid()\n",
        "plt.xlabel('Time')\n",
        "plt.ylabel('x(t)')\n",
        "\n",
        "plt.xlim(0,20)\n"
      ],
      "metadata": {
        "id": "Ckb5qB51J1Xl"
      },
      "execution_count": null,
      "outputs": []
    },
    {
      "cell_type": "markdown",
      "source": [
        "## Stability in linear systems\n",
        "\n",
        "From the above plot, we see that the activity of x(t) is (asymptotically) stable. For the 1-d system, it was straightforward to look at the value of a and reason about the stability. In general, we can study the stability of linear systems by looking at the eigenvalues of A!"
      ],
      "metadata": {
        "id": "V8n5yY8mUyjY"
      }
    },
    {
      "cell_type": "code",
      "source": [
        "A = np.array([[0.2,-0.1],[0.2,0.5]])"
      ],
      "metadata": {
        "id": "pmVYZzksB2C3"
      },
      "execution_count": null,
      "outputs": []
    },
    {
      "cell_type": "code",
      "source": [
        "###\n",
        "# Use np.linalg.eig to get the eigenvalues and eigenvectors of matrix A\n",
        "###\n",
        "\n",
        "lam, vec = np.linalg.eig(A)"
      ],
      "metadata": {
        "id": "_SIjItIbshpP"
      },
      "execution_count": null,
      "outputs": []
    },
    {
      "cell_type": "code",
      "source": [
        "lam"
      ],
      "metadata": {
        "id": "C8SC7sgBl0wO"
      },
      "execution_count": null,
      "outputs": []
    },
    {
      "cell_type": "markdown",
      "source": [
        "Discrete linear systems are stable if there eigenvalues $|\\lambda_i|$ are less than 1. In this case, our system has a $\\textbf{fixed point}$. Any perturbation to the system will flow to that point. This can be visualized by the vector field plot below."
      ],
      "metadata": {
        "id": "Rpb7cHt2CdH_"
      }
    },
    {
      "cell_type": "code",
      "source": [
        "plt.figure(figsize=(8,8))\n",
        "\n",
        "x,y = np.meshgrid(np.arange(-50, 50, 5), np.arange(-50, 50, 5))\n",
        "\n",
        "u = A[0,0]*x + A[0,1]*y\n",
        "v = A[1,0]*x + A[1,1]*y\n",
        "\n",
        "plt.quiver(x,y,u,v)\n",
        "\n",
        "plt.xlim([-50, 50])\n",
        "plt.ylim([-50, 50])\n",
        "\n",
        "plt.legend(bbox_to_anchor=(1.05,1))\n",
        "\n",
        "plt.xlabel(r'$\\vec{x}_1$')\n",
        "plt.ylabel(r'$\\vec{x}_2$')"
      ],
      "metadata": {
        "id": "NMJgSevg9ycy"
      },
      "execution_count": null,
      "outputs": []
    },
    {
      "cell_type": "markdown",
      "source": [
        "Exercise 2: Repeat this simulation for \n",
        "A = $\\bigg[\\begin{array} & -0.3 & -0.5 \\\\ 0.5 & -0.3 \\end{array}\\bigg]$\n",
        "\n",
        "Plot the vector field and describe the behavior of the system in terms of the eigenvalues."
      ],
      "metadata": {
        "id": "8h47ZpvHJFwV"
      }
    },
    {
      "cell_type": "code",
      "source": [
        "#TODO: Exercise 2. Hint: Use the helper function.\n",
        "#A =  \n",
        "#xt = "
      ],
      "metadata": {
        "id": "KCA6ColamZY1"
      },
      "execution_count": null,
      "outputs": []
    },
    {
      "cell_type": "code",
      "source": [
        "lam,vec = np.linalg.eig(A)\n",
        "lam"
      ],
      "metadata": {
        "id": "I_zCYGnsmuRo"
      },
      "execution_count": null,
      "outputs": []
    },
    {
      "cell_type": "code",
      "source": [
        "plt.plot(xt.T)"
      ],
      "metadata": {
        "id": "98VtZnUCnErF"
      },
      "execution_count": null,
      "outputs": []
    },
    {
      "cell_type": "code",
      "source": [
        "plt.figure(figsize=(8,8))\n",
        "\n",
        "x,y = np.meshgrid(np.arange(-50, 50, 5), np.arange(-50, 50, 5))\n",
        "\n",
        "u = A[0,0]*x + A[0,1]*y\n",
        "v = A[1,0]*x + A[1,1]*y\n",
        "\n",
        "plt.quiver(x,y,u,v)\n",
        "\n",
        "plt.xlim([-50, 50])\n",
        "plt.ylim([-50, 50])\n",
        "\n",
        "\n",
        "plt.xlabel(r'$\\vec{x}_1$')\n",
        "plt.ylabel(r'$\\vec{x}_2$')"
      ],
      "metadata": {
        "id": "XM0X4fsWHt2E"
      },
      "execution_count": null,
      "outputs": []
    },
    {
      "cell_type": "markdown",
      "source": [
        "In general, with higher-dimensional systems, it is easier to look at the plot below - the $\\textbf{eigenspectrum}$ in order to gauge the behavior of the system. \n",
        "\n",
        "Systems with eigenvalues that have a non-zero imaginary part show oscillatory dynamics. For oscillations that decay over time (stable), we want the $|\\lambda|$ to be less than 1. This is equivalent to checking if the eigenvalues lie within the unit circle. \n"
      ],
      "metadata": {
        "id": "WjOqfGgdEs8v"
      }
    },
    {
      "cell_type": "code",
      "source": [
        "t = np.arange(0,100,0.001)\n",
        "\n",
        "fig,ax=plt.subplots()\n",
        "plt.plot(np.cos(t), np.sin(t), linewidth=1,color='k')\n",
        "\n",
        "plt.scatter(lam.real,lam.imag)\n",
        "\n",
        "plt.axvline(x=0,color='darkgrey')\n",
        "plt.axhline(y=0,color='darkgrey')\n",
        "\n",
        "plt.xlabel('Real part')\n",
        "plt.ylabel('Imaginary part')\n",
        "\n",
        "ax.set_aspect('equal')\n",
        "\n",
        "plt.grid()"
      ],
      "metadata": {
        "id": "sDJiDcx5LiH4"
      },
      "execution_count": null,
      "outputs": []
    },
    {
      "cell_type": "markdown",
      "source": [
        "## Special cases: Simulating line attractor dynamics"
      ],
      "metadata": {
        "id": "sWZX4Bhp2iUa"
      }
    },
    {
      "cell_type": "markdown",
      "source": [
        "Next, we'll simulate some special cases in the 2-d system. One type of dynamics that are interesting in neuroscience are $\\textit{line attractor}$ dynamics. Here, instead of having a single fixed point, we have no flow (or stability) along a line. \n",
        "\n",
        "Exercise 3: \n",
        "\n",
        "a) Simulate these dynamics by setting A = $\\bigg[\\begin{array} & -0.8 & 0 \\\\ 0 & 0 \\end{array}\\bigg]$ \\\n",
        "b) Plot the trajectories. \\\n",
        "c) Compute the eigenvalues and plot the vector field. \\\n",
        "d) Try giving inputs to the system. \\\n"
      ],
      "metadata": {
        "id": "I226sOrJORkk"
      }
    },
    {
      "cell_type": "code",
      "source": [],
      "metadata": {
        "id": "AZDsDUloSaGQ"
      },
      "execution_count": null,
      "outputs": []
    }
  ]
}