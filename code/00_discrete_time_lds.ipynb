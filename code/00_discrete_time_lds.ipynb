{
  "nbformat": 4,
  "nbformat_minor": 0,
  "metadata": {
    "colab": {
      "provenance": [],
      "collapsed_sections": []
    },
    "kernelspec": {
      "name": "python3",
      "display_name": "Python 3"
    },
    "language_info": {
      "name": "python"
    }
  },
  "cells": [
    {
      "cell_type": "code",
      "source": [
        "import numpy as np\n",
        "import matplotlib.pyplot as plt\n",
        "import matplotlib as mpl\n",
        "\n",
        "mpl.rcParams['axes.labelsize'] = 14"
      ],
      "metadata": {
        "id": "P-0vwkwDsSP6"
      },
      "execution_count": null,
      "outputs": []
    },
    {
      "cell_type": "markdown",
      "source": [
        "# **Discrete linear Dynamical Systems**\n",
        "\n",
        "\n",
        "# Simple 1-D homogenous case\n",
        "First, we will simulate a simple 1-D discrete dynamical system and get some intuition about stability in these systems. \n",
        "\n",
        "Let's consider the following system:\n",
        "$x[t+1] = ax[t]$\n",
        "\n",
        "We will first plot the behavior of this system for different values of a, given the initial value."
      ],
      "metadata": {
        "id": "B0UJCTTOrY3U"
      }
    },
    {
      "cell_type": "code",
      "execution_count": null,
      "metadata": {
        "id": "ZsjJZpWVRnog"
      },
      "outputs": [],
      "source": [
        "T = 20\n",
        "\n",
        "# Set different values of a and x0\n",
        "a = 0.9\n",
        "x0 = 4\n",
        "\n",
        "t = np.arange(0,T,1)\n",
        "x = np.empty((T))\n",
        "\n",
        "x[0] = x0\n",
        "\n",
        "for i in t[1:]:\n",
        "  x[i] = a*x[i-1]\n",
        "\n",
        "plt.plot(t,x,'-')\n",
        "plt.grid()\n",
        "\n",
        "plt.xlabel('Time')\n",
        "plt.ylabel('x(t)')"
      ]
    },
    {
      "cell_type": "markdown",
      "source": [
        "Exercise 1: What are the values of $a$ where the $x(t)$ is stable? Plot both the cases for different initial values."
      ],
      "metadata": {
        "id": "YMkdMo2cu6Le"
      }
    },
    {
      "cell_type": "markdown",
      "source": [
        "## Simulating a 2-D case \n",
        "\n",
        "Now, let's try to study the behavior of a 2-d system. In this case, we can consider a 2d dynamical system.\n",
        "\n",
        "\\begin{equation}\n",
        "x[k+1] = \\bigg[\\begin{array} & 2 & -4 \\\\ 1 & -3 \\end{array} \\bigg] x[k]\n",
        "\\end{equation}\n",
        "\n"
      ],
      "metadata": {
        "id": "tvxxitRovvAx"
      }
    },
    {
      "cell_type": "code",
      "source": [
        "def sim_linear_system(A,T,dt,x0):\n",
        "\n",
        "  t = np.arange(0,T,dt)\n",
        "\n",
        "  x = np.empty((2,len(t)))\n",
        "\n",
        "  x[:,0] = A.dot(x0)\n",
        "\n",
        "  for n,i in enumerate(t[1:]):\n",
        "    x[:,n+1] = A.dot(x[:,n])\n",
        "\n",
        "  return x\n"
      ],
      "metadata": {
        "id": "lDSvWIkIvtjO"
      },
      "execution_count": null,
      "outputs": []
    },
    {
      "cell_type": "code",
      "source": [
        "T = 50\n",
        "dt = 1\n",
        "A = np.array([[-4,-1],[2,3]])\n",
        "x0 = [0,1]\n",
        "\n",
        "xt = sim_linear_system(A,T,dt,x0)\n"
      ],
      "metadata": {
        "id": "yhWFX0FxWOKf"
      },
      "execution_count": null,
      "outputs": []
    },
    {
      "cell_type": "code",
      "source": [
        "plt.plot(xt.T)\n",
        "\n",
        "plt.grid()\n",
        "plt.xlabel('Time')\n",
        "plt.ylabel('x(t)')\n"
      ],
      "metadata": {
        "id": "Ckb5qB51J1Xl"
      },
      "execution_count": null,
      "outputs": []
    },
    {
      "cell_type": "markdown",
      "source": [
        "## Stability in linear systems\n",
        "\n",
        "From the above plot, we see that the activity of x(t) is stable. Let's see if we can reason about the behavior of linear systems by looking at the eigenvalues of A."
      ],
      "metadata": {
        "id": "V8n5yY8mUyjY"
      }
    },
    {
      "cell_type": "code",
      "source": [
        "###\n",
        "# Use np.linalg.eig to get the eigenvalues and eigenvectors of matrix A\n",
        "###\n",
        "\n",
        "lam, vec = np.linalg.eig(A)"
      ],
      "metadata": {
        "id": "_SIjItIbshpP"
      },
      "execution_count": null,
      "outputs": []
    },
    {
      "cell_type": "code",
      "source": [
        "plt.figure(figsize=(8,8))\n",
        "\n",
        "x,y = np.meshgrid(np.arange(-50, 50, 5), np.arange(-50, 50, 5))\n",
        "\n",
        "u = A[0,0]*x + A[0,1]*y\n",
        "v = A[1,0]*x + A[1,1]*y\n",
        "\n",
        "plt.quiver(x,y,u,v)\n",
        "\n",
        "plt.xlim([-50, 50])\n",
        "plt.ylim([-50, 50])\n",
        "\n",
        "plt.legend(bbox_to_anchor=(1.05,1))"
      ],
      "metadata": {
        "id": "NMJgSevg9ycy"
      },
      "execution_count": null,
      "outputs": []
    },
    {
      "cell_type": "markdown",
      "source": [
        "Exercise 2: Repeat this simulation for \n",
        "A = $\\bigg[\\begin{array} & 1 & -1 \\\\ 1 & 1 \\end{array}\\bigg]$\n",
        "\n",
        "Describe the behavior of the system in terms of the eigenvalues."
      ],
      "metadata": {
        "id": "8h47ZpvHJFwV"
      }
    },
    {
      "cell_type": "code",
      "source": [
        "plt.figure(figsize=(8,8))\n",
        "\n",
        "x,y = np.meshgrid(np.arange(-50, 50, 3), np.arange(-50, 50, 3))\n",
        "\n",
        "u = A[0,0]*x + A[0,1]*y\n",
        "v = A[1,0]*x + A[1,1]*y\n",
        "\n",
        "plt.quiver(x,y,u,v)\n",
        "\n",
        "plt.xlim([-50, 50])\n",
        "plt.ylim([-50, 50])\n",
        "\n",
        "plt.legend(bbox_to_anchor=(1.05,1))"
      ],
      "metadata": {
        "id": "XM0X4fsWHt2E"
      },
      "execution_count": null,
      "outputs": []
    },
    {
      "cell_type": "code",
      "source": [
        "t = np.arange(0,100,0.001)\n",
        "\n",
        "fig,ax=plt.subplots()\n",
        "plt.plot(np.cos(t), np.sin(t), linewidth=1,color='k')\n",
        "\n",
        "plt.scatter(lam.real,lam.imag)\n",
        "\n",
        "plt.axvline(x=0,color='darkgrey')\n",
        "plt.axhline(y=0,color='darkgrey')\n",
        "\n",
        "plt.xlabel('Real part')\n",
        "plt.ylabel('Imaginary part')\n",
        "\n",
        "ax.set_aspect('equal')\n",
        "\n",
        "plt.grid()"
      ],
      "metadata": {
        "id": "sDJiDcx5LiH4"
      },
      "execution_count": null,
      "outputs": []
    },
    {
      "cell_type": "code",
      "source": [],
      "metadata": {
        "id": "NtZ2TtLf633q"
      },
      "execution_count": null,
      "outputs": []
    },
    {
      "cell_type": "markdown",
      "source": [
        "## Special cases: Simulating line attractor dynamics"
      ],
      "metadata": {
        "id": "sWZX4Bhp2iUa"
      }
    }
  ]
}