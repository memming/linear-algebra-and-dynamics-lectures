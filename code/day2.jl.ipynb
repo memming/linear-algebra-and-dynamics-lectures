{
 "cells": [
  {
   "cell_type": "code",
   "execution_count": null,
   "metadata": {},
   "outputs": [],
   "source": [
    "using Plots"
   ]
  },
  {
   "cell_type": "code",
   "execution_count": null,
   "metadata": {},
   "outputs": [],
   "source": [
    "τ1 = 0.1\n",
    "τ2 = 0.2\n",
    "tr = 0:0.05:1"
   ]
  },
  {
   "cell_type": "code",
   "execution_count": null,
   "metadata": {},
   "outputs": [],
   "source": [
    "plot(xlabel=\"time (sec)\")\n",
    "plot!(tr, exp.(-tr ./ τ1), label=\"τ_1\")\n",
    "plot!(tr, exp.(-tr ./ τ2), label=\"τ_2\")\n",
    "savefig(\"../figs/diff_exp_decay.pdf\")"
   ]
  },
  {
   "cell_type": "code",
   "execution_count": null,
   "metadata": {},
   "outputs": [],
   "source": []
  }
 ],
 "metadata": {
  "kernelspec": {
   "display_name": "Julia 1.8.1",
   "language": "julia",
   "name": "julia-1.8"
  },
  "language_info": {
   "file_extension": ".jl",
   "mimetype": "application/julia",
   "name": "julia",
   "version": "1.8.1"
  },
  "orig_nbformat": 4,
  "vscode": {
   "interpreter": {
    "hash": "61bdba609ceef3d928140e3febeee3c5f58879d7dd448075b93e7027793d2f76"
   }
  }
 },
 "nbformat": 4,
 "nbformat_minor": 2
}
